{
 "cells": [
  {
   "cell_type": "markdown",
   "id": "a108af04",
   "metadata": {},
   "source": [
    "This is a starter notebook for the project, you'll have to import the libraries you'll need, you can find a list of the ones available in this workspace in the requirements.txt file in this workspace. "
   ]
  },
  {
   "cell_type": "code",
   "execution_count": 1,
   "id": "6554fd4c",
   "metadata": {},
   "outputs": [],
   "source": [
    "import os\n",
    "\n",
    "os.environ[\"OPENAI_API_KEY\"] = \"ai_key\"\n",
    "os.environ[\"OPENAI_API_BASE\"] = \"https://openai.vocareum.com/v1\"\n",
    "\n",
    "from langchain.llms import OpenAI\n",
    "from langchain.chat_models import ChatOpenAI\n",
    "from langchain.prompts import PromptTemplate"
   ]
  },
  {
   "cell_type": "code",
   "execution_count": 2,
   "id": "83cfff6f",
   "metadata": {},
   "outputs": [],
   "source": [
    "llm = ChatOpenAI(\n",
    "    model='gpt-3.5-turbo-0125', \n",
    "    temperature=0.5,\n",
    "    max_tokens=2500)\n",
    "\n",
    "prompt = '''\n",
    "Generate 25 diverse and realistic real estate listings in the United States.\n",
    "Generated listings should be catchy and descriptive, so they encourage reviewers to buy such property.\n",
    "Also they should contain facts, such as:\n",
    "- price\n",
    "- location\n",
    "- available surface\n",
    "- number of bedrooms and bathrooms\n",
    "- property type\n",
    "- amenities\n",
    "- description of the neighborhood.\n",
    "\n",
    "Separate listings by '---'.     \n",
    "'''"
   ]
  },
  {
   "cell_type": "code",
   "execution_count": 3,
   "id": "c1114d1c",
   "metadata": {},
   "outputs": [],
   "source": [
    "result = llm.invoke(prompt)\n",
    "\n",
    "print(result.content)"
   ]
  },
  {
   "cell_type": "code",
   "execution_count": 6,
   "id": "ab0fbe2e",
   "metadata": {},
   "outputs": [],
   "source": [
    "with open('real_est.txt', 'w') as listings_file:\n",
    "    listings_file.write(result.content)"
   ]
  },
  {
   "cell_type": "code",
   "execution_count": 7,
   "id": "08cd6097",
   "metadata": {},
   "outputs": [
    {
     "name": "stderr",
     "output_type": "stream",
     "text": [
      "Created a chunk of size 412, which is longer than the specified 400\n",
      "Created a chunk of size 401, which is longer than the specified 400\n",
      "Created a chunk of size 430, which is longer than the specified 400\n",
      "Created a chunk of size 417, which is longer than the specified 400\n",
      "Created a chunk of size 406, which is longer than the specified 400\n",
      "Created a chunk of size 414, which is longer than the specified 400\n",
      "Created a chunk of size 436, which is longer than the specified 400\n",
      "Created a chunk of size 406, which is longer than the specified 400\n"
     ]
    },
    {
     "data": {
      "text/plain": [
       "25"
      ]
     },
     "execution_count": 7,
     "metadata": {},
     "output_type": "execute_result"
    }
   ],
   "source": [
    "import chromadb\n",
    "from langchain.embeddings.openai import OpenAIEmbeddings\n",
    "from langchain.document_loaders import TextLoader\n",
    "from langchain.text_splitter import CharacterTextSplitter\n",
    "from langchain.vectorstores import Chroma\n",
    "\n",
    "chroma_client = chromadb.Client()\n",
    "collection = chroma_client.create_collection(name=\"real_estate_listings\")\n",
    "\n",
    "loader = TextLoader(\"./real_est.txt\")\n",
    "files = loader.load()\n",
    "\n",
    "text_splitter = CharacterTextSplitter(separator='\\n---\\n', chunk_size=400, chunk_overlap=0)\n",
    "docs = text_splitter.split_documents(files)\n",
    "len(docs)\n",
    "\n"
   ]
  },
  {
   "cell_type": "code",
   "execution_count": 9,
   "id": "e917182a",
   "metadata": {},
   "outputs": [
    {
     "name": "stderr",
     "output_type": "stream",
     "text": [
      "Warning: model not found. Using cl100k_base encoding.\n"
     ]
    }
   ],
   "source": [
    "\n",
    "embedding_model = OpenAIEmbeddings(openai_api_key=os.environ[\"OPENAI_API_KEY\"], model=\"text-embedding-3-large\")\n",
    "db = Chroma.from_documents(docs, embedding_model, persist_directory='./chroma_db')\n"
   ]
  },
  {
   "cell_type": "code",
   "execution_count": 10,
   "id": "93d4ee43",
   "metadata": {},
   "outputs": [
    {
     "name": "stderr",
     "output_type": "stream",
     "text": [
      "Warning: model not found. Using cl100k_base encoding.\n"
     ]
    },
    {
     "name": "stdout",
     "output_type": "stream",
     "text": [
      "12. Equestrian Estate in Lexington, KY\n",
      "Price: $3,000,000\n",
      "Location: Lexington, KY\n",
      "Surface: 10,000 sqft\n",
      "Bedrooms: 7\n",
      "Bathrooms: 5\n",
      "Property type: Equestrian estate\n",
      "Amenities: Horse stables, riding arena, guest house\n",
      "Description: Live the equestrian lifestyle in this sprawling estate in Lexington with acres of land for horses and outdoor activities. Explore nearby horse farms and bourbon distilleries.\n",
      "7. Urban Oasis in Brooklyn, NY\n",
      "Price: $1,000,000\n",
      "Location: Brooklyn, NY\n",
      "Surface: 1,800 sqft\n",
      "Bedrooms: 3\n",
      "Bathrooms: 2\n",
      "Property type: Townhouse\n",
      "Amenities: Private garden, rooftop deck, chef's kitchen\n",
      "Description: Escape the hustle and bustle of the city in this serene urban oasis in Brooklyn. Enjoy the vibrant arts scene, trendy cafes, and diverse culture of the neighborhood.\n",
      "5. Waterfront Estate in Newport, RI\n",
      "Price: $4,000,000\n",
      "Location: Newport, RI\n",
      "Surface: 6,500 sqft\n",
      "Bedrooms: 5\n",
      "Bathrooms: 6\n",
      "Property type: Waterfront estate\n",
      "Amenities: Private dock, pool, guest house\n",
      "Description: Experience waterfront living at its finest in this elegant estate in Newport with stunning views of the harbor. Walk to yacht clubs, beaches, and historic mansions.\n",
      "4. Mountain Retreat in Aspen, CO\n",
      "Price: $2,500,000\n",
      "Location: Aspen, CO\n",
      "Surface: 5,000 sqft\n",
      "Bedrooms: 6\n",
      "Bathrooms: 4\n",
      "Property type: Mountain home\n",
      "Amenities: Ski-in/ski-out access, hot tub, fireplace\n",
      "Description: Escape to this luxurious mountain retreat in Aspen with easy access to world-class skiing and outdoor activities. Enjoy the peaceful surroundings and stunning mountain views.\n"
     ]
    }
   ],
   "source": [
    "query = '''\n",
    "I would like to live in one of state in the middle of US and I can spend up to $1.5 Million. \n",
    "I want to have an estate in gated community with a lot of amenities for children (e.g. school, playground).\n",
    "Beside of that house should have at least 4 bedrooms, spacious kitchen and garden.\n",
    "'''\n",
    "docs = db.similarity_search(query)\n",
    "\n",
    "for doc in docs:\n",
    "    print(doc.page_content)"
   ]
  },
  {
   "cell_type": "code",
   "execution_count": 29,
   "id": "734e8b81",
   "metadata": {},
   "outputs": [],
   "source": [
    "from langchain.llms import OpenAI\n",
    "from langchain.chains import RetrievalQA\n",
    "from langchain.embeddings import OpenAIEmbeddings\n",
    "from langchain.vectorstores import Chroma\n",
    "\n",
    "qa_chain = RetrievalQA.from_chain_type(\n",
    "    llm=llm,\n",
    "    chain_type=\"stuff\",  # You can use \"map_reduce\" for more complex queries\n",
    "    retriever=db.as_retriever()\n",
    ")"
   ]
  },
  {
   "cell_type": "code",
   "execution_count": 31,
   "id": "efb16e5a",
   "metadata": {},
   "outputs": [
    {
     "name": "stderr",
     "output_type": "stream",
     "text": [
      "Warning: model not found. Using cl100k_base encoding.\n"
     ]
    },
    {
     "name": "stdout",
     "output_type": "stream",
     "text": [
      "The two lowest priced listings with more than 4 bedrooms are:\n",
      "\n",
      "1. Ski-In/Ski-Out Chalet in Park City, UT\n",
      "Price: $2,500,000\n",
      "Location: Park City, UT\n",
      "Surface: 4,000 sqft\n",
      "Bedrooms: 6\n",
      "Bathrooms: 5\n",
      "Property type: Ski chalet\n",
      "Amenities: Hot tub, game room, mountain views\n",
      "\n",
      "2. Mountain Retreat in Aspen, CO\n",
      "Price: $2,500,000\n",
      "Location: Aspen, CO\n",
      "Surface: 5,000 sqft\n",
      "Bedrooms: 6\n",
      "Bathrooms: 4\n",
      "Property type: Mountain home\n",
      "Amenities: Ski-in/ski-out access, hot tub, fireplace\n"
     ]
    }
   ],
   "source": [
    "query = \"Show me listings with 3 bedrooms under $500,000.\"\n",
    "query = \"Show me top 2 lowest priced listing for bedroom >4 \"\n",
    "response = qa_chain.run(query)\n",
    "print(response)"
   ]
  },
  {
   "cell_type": "markdown",
   "id": "d7c5be63",
   "metadata": {},
   "source": [
    "## Creating Streamlit App for the Real Estate Listings"
   ]
  },
  {
   "cell_type": "code",
   "execution_count": 33,
   "id": "c7768898",
   "metadata": {},
   "outputs": [],
   "source": [
    "#!pip install streamlit"
   ]
  },
  {
   "cell_type": "code",
   "execution_count": 8,
   "id": "080f07c8",
   "metadata": {},
   "outputs": [
    {
     "name": "stderr",
     "output_type": "stream",
     "text": [
      "/opt/conda/lib/python3.10/site-packages/langchain/llms/openai.py:790: UserWarning: You are trying to use a chat model. This way of initializing it is no longer supported. Instead, please use: `from langchain.chat_models import ChatOpenAI`\n",
      "  warnings.warn(\n",
      "2024-08-16 17:42:00.872 \n",
      "  \u001b[33m\u001b[1mWarning:\u001b[0m to view this Streamlit app on a browser, run it with the following\n",
      "  command:\n",
      "\n",
      "    streamlit run /opt/conda/lib/python3.10/site-packages/ipykernel_launcher.py [ARGUMENTS]\n",
      "2024-08-16 17:42:00.873 Session state does not function when running a script without `streamlit run`\n"
     ]
    }
   ],
   "source": [
    "import streamlit as st\n",
    "from langchain.llms import OpenAI\n",
    "from langchain.chains import RetrievalQA\n",
    "from langchain.embeddings import OpenAIEmbeddings\n",
    "from langchain.vectorstores import Chroma\n",
    "import os\n",
    "\n",
    "os.environ[\"OPENAI_API_KEY\"] = \"api_key\"\n",
    "os.environ[\"OPENAI_API_BASE\"] = \"https://openai.vocareum.com/v1\"\n",
    "\n",
    "\n",
    "# Initialize OpenAI LLM and embeddings\n",
    "llm = OpenAI(openai_api_key=os.environ[\"OPENAI_API_KEY\"],model_name=\"gpt-3.5-turbo-0125\", temperature=0.5, max_tokens=2500)\n",
    "embedding_model = OpenAIEmbeddings(openai_api_key=os.environ[\"OPENAI_API_KEY\"], model=\"text-embedding-3-large\")\n",
    "\n",
    "# Function to create listings\n",
    "def create_listings(city, country):\n",
    "    prompt = f\"Create a real estate listing for {city}, {country}.\"\n",
    "    listing = llm(prompt)\n",
    "    return listing\n",
    "\n",
    "# Function to save listings to Chroma DB\n",
    "def save_to_chroma(listings):\n",
    "    docs = [{\"content\": listing} for listing in listings]\n",
    "    db = Chroma.from_documents(docs, embedding_model, persist_directory='./chroma_db')\n",
    "    return db\n",
    "\n",
    "# Streamlit UI\n",
    "st.title(\"Real Estate Listing Creator and Query Tool\")\n",
    "\n",
    "# Section to create listings\n",
    "st.header(\"Create Listings\")\n",
    "city = st.text_input(\"City\")\n",
    "country = st.text_input(\"Country\")\n",
    "if st.button(\"Create Listings\"):\n",
    "    listing = create_listings(city, country)\n",
    "    st.write(\"Generated Listing:\")\n",
    "    st.write(listing)\n",
    "    \n",
    "    if st.button(\"Save to Chroma DB\"):\n",
    "        db = save_to_chroma([listing])\n",
    "        st.success(\"Listing saved to Chroma DB!\")\n",
    "\n",
    "# Section to query Chroma DB\n",
    "st.header(\"Query Listings\")\n",
    "query = st.text_input(\"Enter your query\")\n",
    "if st.button(\"Search Listings\"):\n",
    "    db = Chroma(persist_directory='./chroma_db', embedding_function=embedding_model)\n",
    "    qa_chain = RetrievalQA.from_chain_type(\n",
    "        llm=llm,\n",
    "        chain_type=\"stuff\",  # You can use \"map_reduce\" for more complex queries\n",
    "        retriever=db.as_retriever()\n",
    "    )\n",
    "    response = qa_chain.run(query)\n",
    "    st.write(\"Query Result:\")\n",
    "    st.write(response)\n"
   ]
  },
  {
   "cell_type": "code",
   "execution_count": null,
   "id": "f8f26ded",
   "metadata": {},
   "outputs": [],
   "source": []
  },
  {
   "cell_type": "code",
   "execution_count": null,
   "id": "d88e5b17",
   "metadata": {},
   "outputs": [],
   "source": []
  },
  {
   "cell_type": "code",
   "execution_count": null,
   "id": "78322b84",
   "metadata": {},
   "outputs": [],
   "source": []
  }
 ],
 "metadata": {
  "kernelspec": {
   "display_name": "Python 3 (ipykernel)",
   "language": "python",
   "name": "python3"
  },
  "language_info": {
   "codemirror_mode": {
    "name": "ipython",
    "version": 3
   },
   "file_extension": ".py",
   "mimetype": "text/x-python",
   "name": "python",
   "nbconvert_exporter": "python",
   "pygments_lexer": "ipython3",
   "version": "3.10.11"
  }
 },
 "nbformat": 4,
 "nbformat_minor": 5
}
